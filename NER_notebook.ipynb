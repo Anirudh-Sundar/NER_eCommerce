{
 "cells": [
  {
   "cell_type": "code",
   "execution_count": 3,
   "metadata": {},
   "outputs": [
    {
     "ename": "AttributeError",
     "evalue": "type object 'pandas._libs.lib.Seen' has no attribute '__reduce_cython__'",
     "output_type": "error",
     "traceback": [
      "\u001b[1;31m---------------------------------------------------------------------------\u001b[0m",
      "\u001b[1;31mAttributeError\u001b[0m                            Traceback (most recent call last)",
      "\u001b[1;32m<ipython-input-3-3db587e972f1>\u001b[0m in \u001b[0;36m<module>\u001b[1;34m\u001b[0m\n\u001b[0;32m      4\u001b[0m \u001b[1;32mimport\u001b[0m \u001b[0mmatplotlib\u001b[0m\u001b[1;33m.\u001b[0m\u001b[0mpyplot\u001b[0m \u001b[1;32mas\u001b[0m \u001b[0mplt\u001b[0m\u001b[1;33m\u001b[0m\u001b[1;33m\u001b[0m\u001b[0m\n\u001b[0;32m      5\u001b[0m \u001b[1;32mimport\u001b[0m \u001b[0mnltk\u001b[0m\u001b[1;33m\u001b[0m\u001b[1;33m\u001b[0m\u001b[0m\n\u001b[1;32m----> 6\u001b[1;33m \u001b[1;32mimport\u001b[0m \u001b[0mpandas\u001b[0m \u001b[1;32mas\u001b[0m \u001b[0mpd\u001b[0m\u001b[1;33m\u001b[0m\u001b[1;33m\u001b[0m\u001b[0m\n\u001b[0m",
      "\u001b[1;32mC:\\Anaconda\\envs\\tf\\lib\\site-packages\\pandas\\__init__.py\u001b[0m in \u001b[0;36m<module>\u001b[1;34m\u001b[0m\n\u001b[0;32m     30\u001b[0m \u001b[1;33m\u001b[0m\u001b[0m\n\u001b[0;32m     31\u001b[0m \u001b[1;32mtry\u001b[0m\u001b[1;33m:\u001b[0m\u001b[1;33m\u001b[0m\u001b[1;33m\u001b[0m\u001b[0m\n\u001b[1;32m---> 32\u001b[1;33m     \u001b[1;32mfrom\u001b[0m \u001b[0mpandas\u001b[0m\u001b[1;33m.\u001b[0m\u001b[0m_libs\u001b[0m \u001b[1;32mimport\u001b[0m \u001b[0mhashtable\u001b[0m \u001b[1;32mas\u001b[0m \u001b[0m_hashtable\u001b[0m\u001b[1;33m,\u001b[0m \u001b[0mlib\u001b[0m \u001b[1;32mas\u001b[0m \u001b[0m_lib\u001b[0m\u001b[1;33m,\u001b[0m \u001b[0mtslib\u001b[0m \u001b[1;32mas\u001b[0m \u001b[0m_tslib\u001b[0m\u001b[1;33m\u001b[0m\u001b[1;33m\u001b[0m\u001b[0m\n\u001b[0m\u001b[0;32m     33\u001b[0m \u001b[1;32mexcept\u001b[0m \u001b[0mImportError\u001b[0m \u001b[1;32mas\u001b[0m \u001b[0me\u001b[0m\u001b[1;33m:\u001b[0m  \u001b[1;31m# pragma: no cover\u001b[0m\u001b[1;33m\u001b[0m\u001b[1;33m\u001b[0m\u001b[0m\n\u001b[0;32m     34\u001b[0m     \u001b[1;31m# hack but overkill to use re\u001b[0m\u001b[1;33m\u001b[0m\u001b[1;33m\u001b[0m\u001b[1;33m\u001b[0m\u001b[0m\n",
      "\u001b[1;32mpandas\\_libs\\lib.pyx\u001b[0m in \u001b[0;36minit pandas._libs.lib\u001b[1;34m()\u001b[0m\n",
      "\u001b[1;31mAttributeError\u001b[0m: type object 'pandas._libs.lib.Seen' has no attribute '__reduce_cython__'"
     ]
    }
   ],
   "source": [
    "import numpy as np\n",
    "import tensorflow as tf\n",
    "import sklearn\n",
    "import matplotlib.pyplot as plt\n",
    "import nltk\n",
    "import pandas as pd"
   ]
  },
  {
   "cell_type": "code",
   "execution_count": null,
   "metadata": {},
   "outputs": [],
   "source": [
    "data = pd.read_csv(r\"./phone_data.csv\",encoding  ='UTF-8')\n",
    "data = data.fillna(method = 'ffill')\n",
    "data.head(20)"
   ]
  },
  {
   "cell_type": "code",
   "execution_count": null,
   "metadata": {},
   "outputs": [],
   "source": [
    "\n",
    "words = list(set(data['vals'].values))\n",
    "tags = list(set(data['keys'].values))\n",
    "len(words)"
   ]
  },
  {
   "cell_type": "code",
   "execution_count": null,
   "metadata": {},
   "outputs": [],
   "source": [
    "class Getter(object):\n",
    "    def __init__(self,data):\n",
    "        self.data = data\n",
    "        func = lambda x :[(w,t) for w,t in zip(x['vals'].values.tolist(),\n",
    "                                                   x['keys'].values.tolist())]\n",
    "        self.grouped = self.data.groupby('grp').apply(func)\n",
    "        self.sentences = [s for s in self.grouped]\n",
    "        \n"
   ]
  },
  {
   "cell_type": "code",
   "execution_count": null,
   "metadata": {},
   "outputs": [],
   "source": [
    "getter = Getter(data)\n",
    "sentences = getter.sentences\n",
    "print(sentences[1])"
   ]
  },
  {
   "cell_type": "code",
   "execution_count": null,
   "metadata": {},
   "outputs": [],
   "source": [
    "word2idx = {w:i for i,w in enumerate(words)}\n",
    "tags2idx = {t:i for i,t in enumerate(tags)}\n",
    "word2idx\n"
   ]
  },
  {
   "cell_type": "code",
   "execution_count": null,
   "metadata": {},
   "outputs": [],
   "source": [
    "tags2idx"
   ]
  },
  {
   "cell_type": "code",
   "execution_count": null,
   "metadata": {},
   "outputs": [],
   "source": [
    "from nltk.corpus import stopwords\n",
    "stop_words = set(stopwords.words(\"english\"))\n",
    "for s in sentences :\n",
    "    for w in s:\n",
    "        if w[0] in stop_words :\n",
    "            s.pop(s.index(w))\n",
    "   "
   ]
  },
  {
   "cell_type": "code",
   "execution_count": null,
   "metadata": {},
   "outputs": [],
   "source": [
    "from tensorflow.keras.preprocessing.sequence import pad_sequences\n",
    "from tensorflow.keras.utils import to_categorical\n",
    "\n",
    "max_len =15\n",
    "X = [[word2idx[w[0]] for w in s] for s in sentences]\n",
    "X = pad_sequences(maxlen = max_len,sequences = X,padding = 'post',value = len(words)-1)\n",
    "\n",
    "Y = [[tags2idx[t[-1]] for t in s] for s in sentences]\n",
    "Y = pad_sequences(maxlen = max_len,sequences = Y,padding = 'post',value = tags2idx['O'])\n",
    "Y = [ to_categorical(i,num_classes = len(tags)) for i in Y]\n",
    "X"
   ]
  },
  {
   "cell_type": "code",
   "execution_count": null,
   "metadata": {},
   "outputs": [],
   "source": [
    "from sklearn.model_selection import train_test_split\n",
    "X_train,X_test,Y_train,Y_test = train_test_split(X,Y,test_size = 0.1,random_state=1)\n",
    "Y_train\n"
   ]
  },
  {
   "cell_type": "code",
   "execution_count": null,
   "metadata": {},
   "outputs": [],
   "source": [
    "from tensorflow.keras.layers import Embedding,Dense,Dropout,LSTM,Bidirectional,TimeDistributed\n",
    "from tensorflow.keras import Model,Input\n",
    "input_word = Input(shape=(max_len,))\n",
    "model = Embedding(input_dim = len(words),input_length = max_len,output_dim= max_len)(input_word)\n",
    "model = Dropout(0.2)(model)\n",
    "model = Bidirectional(LSTM(units = 30,return_sequences = True,recurrent_dropout = 0.1))(model)\n",
    "model =  TimeDistributed(Dense(len(tags),activation = 'relu'))(model)\n",
    "out = TimeDistributed(Dense(len(tags),activation = 'softmax'))(model)\n",
    "model = Model(input_word,out)\n",
    "model.summary()"
   ]
  },
  {
   "cell_type": "code",
   "execution_count": 13,
   "metadata": {},
   "outputs": [],
   "source": [
    "adam = tf.keras.optimizers.Adam(\n",
    "    learning_rate=0.005)\n",
    "model.compile(optimizer = adam,loss = 'categorical_crossentropy',metrics = ['accuracy'])"
   ]
  },
  {
   "cell_type": "code",
   "execution_count": 14,
   "metadata": {},
   "outputs": [
    {
     "name": "stdout",
     "output_type": "stream",
     "text": [
      "Train on 271 samples, validate on 68 samples\n",
      "Epoch 1/24\n",
      "271/271 [==============================] - 6s 23ms/sample - loss: 1.5033 - accuracy: 0.6770 - val_loss: 0.7498 - val_accuracy: 0.7412\n",
      "Epoch 2/24\n",
      "271/271 [==============================] - 1s 2ms/sample - loss: 0.6900 - accuracy: 0.7459 - val_loss: 0.5696 - val_accuracy: 0.8176\n",
      "Epoch 3/24\n",
      "271/271 [==============================] - 1s 2ms/sample - loss: 0.5286 - accuracy: 0.7702 - val_loss: 0.4875 - val_accuracy: 0.7824\n",
      "Epoch 4/24\n",
      "271/271 [==============================] - 1s 2ms/sample - loss: 0.4528 - accuracy: 0.7833 - val_loss: 0.4245 - val_accuracy: 0.8206\n",
      "Epoch 5/24\n",
      "271/271 [==============================] - 0s 2ms/sample - loss: 0.3887 - accuracy: 0.8403 - val_loss: 0.3854 - val_accuracy: 0.8373\n",
      "Epoch 6/24\n",
      "271/271 [==============================] - 0s 2ms/sample - loss: 0.3484 - accuracy: 0.8499 - val_loss: 0.3654 - val_accuracy: 0.8412\n",
      "Epoch 7/24\n",
      "271/271 [==============================] - 0s 2ms/sample - loss: 0.3111 - accuracy: 0.8659 - val_loss: 0.3618 - val_accuracy: 0.8382\n",
      "Epoch 8/24\n",
      "271/271 [==============================] - 0s 1ms/sample - loss: 0.2886 - accuracy: 0.8787 - val_loss: 0.3506 - val_accuracy: 0.8431\n",
      "Epoch 9/24\n",
      "271/271 [==============================] - 0s 1ms/sample - loss: 0.2602 - accuracy: 0.8930 - val_loss: 0.3464 - val_accuracy: 0.8637\n",
      "Epoch 10/24\n",
      "271/271 [==============================] - 0s 1ms/sample - loss: 0.2264 - accuracy: 0.9183 - val_loss: 0.3222 - val_accuracy: 0.8824\n",
      "Epoch 11/24\n",
      "271/271 [==============================] - 0s 1ms/sample - loss: 0.1920 - accuracy: 0.9358 - val_loss: 0.2996 - val_accuracy: 0.9010\n",
      "Epoch 12/24\n",
      "271/271 [==============================] - 0s 1ms/sample - loss: 0.1517 - accuracy: 0.9552 - val_loss: 0.2808 - val_accuracy: 0.9039\n",
      "Epoch 13/24\n",
      "271/271 [==============================] - 0s 1ms/sample - loss: 0.1199 - accuracy: 0.9606 - val_loss: 0.2684 - val_accuracy: 0.9098\n",
      "Epoch 14/24\n",
      "271/271 [==============================] - 0s 1ms/sample - loss: 0.1030 - accuracy: 0.9680 - val_loss: 0.2809 - val_accuracy: 0.9010\n",
      "Epoch 15/24\n",
      "271/271 [==============================] - 0s 1ms/sample - loss: 0.0885 - accuracy: 0.9712 - val_loss: 0.2826 - val_accuracy: 0.9039\n",
      "Epoch 16/24\n",
      "271/271 [==============================] - 0s 1ms/sample - loss: 0.0796 - accuracy: 0.9724 - val_loss: 0.2865 - val_accuracy: 0.9059\n",
      "Epoch 17/24\n",
      "271/271 [==============================] - 0s 1ms/sample - loss: 0.0755 - accuracy: 0.9739 - val_loss: 0.3082 - val_accuracy: 0.8990\n",
      "Epoch 18/24\n",
      "271/271 [==============================] - 0s 1ms/sample - loss: 0.0696 - accuracy: 0.9761 - val_loss: 0.2941 - val_accuracy: 0.9108\n",
      "Epoch 19/24\n",
      "271/271 [==============================] - 0s 1ms/sample - loss: 0.0629 - accuracy: 0.9788 - val_loss: 0.2959 - val_accuracy: 0.9127\n",
      "Epoch 20/24\n",
      "271/271 [==============================] - 0s 1ms/sample - loss: 0.0604 - accuracy: 0.9801 - val_loss: 0.3182 - val_accuracy: 0.9049\n",
      "Epoch 21/24\n",
      "271/271 [==============================] - 0s 1ms/sample - loss: 0.0608 - accuracy: 0.9786 - val_loss: 0.3284 - val_accuracy: 0.9020\n",
      "Epoch 22/24\n",
      "271/271 [==============================] - 0s 1ms/sample - loss: 0.0580 - accuracy: 0.9793 - val_loss: 0.3259 - val_accuracy: 0.9088\n",
      "Epoch 23/24\n",
      "271/271 [==============================] - 0s 1ms/sample - loss: 0.0525 - accuracy: 0.9803 - val_loss: 0.3177 - val_accuracy: 0.9167\n",
      "Epoch 24/24\n",
      "271/271 [==============================] - 0s 1ms/sample - loss: 0.0519 - accuracy: 0.9813 - val_loss: 0.3310 - val_accuracy: 0.9176\n"
     ]
    }
   ],
   "source": [
    "\n",
    "history = model.fit(X_train,np.array(Y_train),validation_split = 0.2,batch_size = 16,epochs = 24,verbose = 1)"
   ]
  },
  {
   "cell_type": "code",
   "execution_count": 15,
   "metadata": {},
   "outputs": [
    {
     "name": "stdout",
     "output_type": "stream",
     "text": [
      "38/38 [==============================] - 0s 267us/sample - loss: 0.4230 - accuracy: 0.9018\n"
     ]
    },
    {
     "data": {
      "text/plain": [
       "[0.42298581568818344, 0.9017544]"
      ]
     },
     "execution_count": 15,
     "metadata": {},
     "output_type": "execute_result"
    }
   ],
   "source": [
    "model.evaluate(X_test,np.array(Y_test))"
   ]
  },
  {
   "cell_type": "code",
   "execution_count": 16,
   "metadata": {},
   "outputs": [
    {
     "name": "stdout",
     "output_type": "stream",
     "text": [
      "Word              Tag\n",
      "aaxa              Brand\n",
      "projector              Category\n",
      "rechargeable              Category\n",
      "aa              O\n",
      "battery              Category\n",
      "ab              ModelName\n",
      "switch              ModelName\n",
      "ahs              O\n",
      "ahs              O\n",
      "ahs              O\n",
      "ahs              O\n",
      "ahs              O\n",
      "ahs              O\n",
      "ahs              O\n",
      "ahs              O\n"
     ]
    }
   ],
   "source": [
    "i = np.random.randint(0,X_test.shape[0])\n",
    "p = model.predict(np.array([X_test[i]]))\n",
    "p = np.argmax(p,axis = -1)\n",
    "print(\"Word\" + \"              \" + \"Tag\")\n",
    "for w,t,pred in zip(X_test[i],Y_test[i],p[0]):\n",
    "    print(str(words[w]) + \"              \" + str(tags[pred]))"
   ]
  },
  {
   "cell_type": "code",
   "execution_count": null,
   "metadata": {},
   "outputs": [],
   "source": []
  },
  {
   "cell_type": "code",
   "execution_count": null,
   "metadata": {},
   "outputs": [],
   "source": []
  },
  {
   "cell_type": "code",
   "execution_count": null,
   "metadata": {},
   "outputs": [],
   "source": []
  }
 ],
 "metadata": {
  "kernelspec": {
   "display_name": "Python 3",
   "language": "python",
   "name": "python3"
  },
  "language_info": {
   "codemirror_mode": {
    "name": "ipython",
    "version": 3
   },
   "file_extension": ".py",
   "mimetype": "text/x-python",
   "name": "python",
   "nbconvert_exporter": "python",
   "pygments_lexer": "ipython3",
   "version": "3.7.7"
  }
 },
 "nbformat": 4,
 "nbformat_minor": 4
}
